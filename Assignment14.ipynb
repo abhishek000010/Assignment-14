{
 "cells": [
  {
   "cell_type": "code",
   "execution_count": null,
   "id": "c4a1b6ae-c09f-4016-b4a0-253812c24d66",
   "metadata": {},
   "outputs": [],
   "source": [
    "Q1 -> what is multithreading in python? why is it used? Name the module used to handle threads in python\n",
    "\n",
    "Ans -> Multithreading in Python refers to the ability of a program to execute multiple threads of execution concurrently, allowing multiple parts of the program to run simultaneously.\n",
    "\n",
    "Multithreading is used in Python when a program needs to perform multiple tasks simultaneously, such as when processing large amounts of data or performing I/O-bound operations. By using multithreading,  \n",
    "\n",
    "a program can make better use of available system resources, such as multiple CPU cores, to perform tasks more efficiently.\n",
    "\n",
    "In Python, the threading module is used to handle threads. This module provides a simple way to create and manage threads in a program. The threading module allows a Python program to create new threads of execution,\n",
    "\n",
    "which can run simultaneously with the main thread of the program. The threading module also provides synchronization primitives, such as locks and semaphores, to help manage access to shared resources between threads.\n"
   ]
  },
  {
   "cell_type": "code",
   "execution_count": null,
   "id": "2123f23b-c585-4cbf-b681-5fc27843d288",
   "metadata": {},
   "outputs": [],
   "source": [
    "Q2 -> why threading module used? write the use of the following functions\n",
    "1. activeCount()\n",
    "2. currentThread()\n",
    "3. enumerate()\n",
    "\n",
    "Ans -> The threading module in Python is used for creating, managing, and controlling threads in a Python program. It provides a high-level interface for working with threads, allowing programmers to easily create, start, and stop threads, as well as manage synchronization between threads.\n",
    "\n",
    "Here are the uses of the following functions in the threading module:\n",
    "\n",
    "1) activeCount(): This function returns the number of thread objects that are active in the current Python interpreter. An active thread is a thread that has been started but has not yet finished or been joined. \n",
    "\n",
    "This function is useful for debugging and monitoring purposes, as it allows a programmer to see how many threads are currently running in a program.\n",
    "\n",
    "2) currentThread(): This function returns a thread object that represents the current thread of execution. The current thread is the thread that is currently executing the Python code. \n",
    "\n",
    "This function is useful for obtaining information about the current thread, such as its name, ID, and state\n",
    "\n",
    "3) enumerate(): This function returns a list of all thread objects that are currently active in the current Python interpreter. An active thread is a thread that has been started but has not yet finished or been joined. This function is useful for debugging and monitoring purposes, \n",
    "\n",
    "as it allows a programmer to see all the threads that are currently running in a program. The list returned by this function includes the current thread object as well as any other active thread objects.\n",
    "\n",
    "\n",
    "\n"
   ]
  },
  {
   "cell_type": "code",
   "execution_count": null,
   "id": "f0e69495-8b84-41e3-b7ff-6802d9d16ba0",
   "metadata": {},
   "outputs": [],
   "source": [
    "Q3 -> Explain the following functions\n",
    "1) run()\n",
    "2) start()\n",
    "3) join()\n",
    "4) isAlive()\n",
    "\n",
    "Ans -> \n",
    "1) run(): This is the method that is called when a thread is started using the start() method. It contains the code that will be executed in the new thread of execution. This method should be overridden in a subclass of the Thread class to implement the desired functionality.\n",
    "\n",
    "2) start(): This method starts a new thread of execution by calling the run() method of the thread object. When this method is called, a new thread is created and the run() method of the thread object is executed in the new thread of execution. This method should only be called once per thread object.\n",
    "\n",
    "3) join(): This method waits for a thread to complete its execution before continuing with the rest of the program. When this method is called on a thread object, the program will wait until the thread has finished executing before continuing. This method is useful for synchronization between threads, such as when one thread is dependent on the results of another thread.\n",
    "\n",
    "4) isAlive(): This method returns a boolean value indicating whether the thread is currently executing. If the thread is still running, this method returns True, otherwise it returns False. This method is useful for checking the status of a thread, such as when waiting for a thread to finish using the join() method."
   ]
  },
  {
   "cell_type": "code",
   "execution_count": 1,
   "id": "f5912a3b-6272-4a84-adc2-191f3f615df0",
   "metadata": {},
   "outputs": [],
   "source": [
    "Q4 -> write a python program to create two threads. Thread one must print the list of squares and thread\n",
    "two must print the list of cubes\n",
    "\n",
    "import threading\n",
    "\n",
    "def print_square():\n",
    "    squares = [i**2 for i in range(10)]\n",
    "    for square in squares:\n",
    "        print(square)\n",
    "        \n",
    "def print_cube():\n",
    "    cubes = [i**3 for i in range(10)]\n",
    "    for cube in cubes:\n",
    "        print(cube)\n",
    "        \n",
    "t1 = threading.Thread(target = print_square)\n",
    "t2 = threading.Thread(target = print_cube)\n",
    "\n",
    "t1.start()\n",
    "t2.start()\n",
    "t1.join()\n",
    "t2.join()\n"
   ]
  },
  {
   "cell_type": "code",
   "execution_count": null,
   "id": "f43bba2d-30a0-4b3e-9c4f-54728327b679",
   "metadata": {},
   "outputs": [],
   "source": [
    "Q5 -> State advantages and disadvantages of multithreading.\n",
    "\n",
    "Ans -> Multithreading is a technique that allows a program to perform multiple tasks concurrently, improving the program's performance and responsiveness. Here are some of the advantages and disadvantages of multithreading:\n",
    "\n",
    "Advantages:\n",
    "\n",
    "1) Increased performance: Multithreading can significantly improve the performance of a program by utilizing multiple CPU cores simultaneously, allowing tasks to run in parallel.\n",
    "\n",
    "2) Improved responsiveness: Multithreading can make a program more responsive to user input by allowing the program to continue executing other tasks while waiting for user input.\n",
    "\n",
    "3) Resource sharing: Multithreading allows multiple threads to share resources, such as memory or network connections, which can reduce the overhead of creating and managing multiple processes.\n",
    "\n",
    "4) Easier programming: Multithreading can simplify programming in some cases by allowing a program to be divided into smaller, more manageable tasks that can be executed concurrently.\n",
    "\n",
    "Disadvantages:\n",
    "\n",
    "1) Increased complexity: Multithreading can make a program more complex and harder to debug, as multiple threads can interact with each other in unpredictable ways, leading to synchronization and concurrency issues.\n",
    "\n",
    "2) Resource contention: Multithreading can lead to resource contention, where multiple threads compete for the same resources, such as shared memory or a database connection, leading to deadlocks or other performance issues.\n",
    "\n",
    "3) Scalability issues: Multithreading may not always scale well, as the overhead of managing multiple threads can outweigh the benefits of running tasks in parallel on a system with limited resources.\n",
    "\n",
    "4) Security issues: Multithreading can introduce security vulnerabilities, as shared resources can be accessed or modified by multiple threads simultaneously, leading to data corruption or unauthorized access."
   ]
  },
  {
   "cell_type": "code",
   "execution_count": null,
   "id": "f008df4a-70a1-4262-94eb-9112570f6f29",
   "metadata": {},
   "outputs": [],
   "source": [
    "Q6 -> Explain deadlocks and race conditions.\n",
    "\n",
    "Ans -> Deadlock and race conditions are two common types of concurrency issues that can occur in multi-threaded or multi-process software systems.\n",
    "\n",
    "Deadlocks occur when two or more threads or processes are waiting for each other to release a resource that they need in order to proceed. This can happen when two or more threads or processes are holding resources that the others need, and neither of them can proceed until the other releases its resources. This can result in a situation where all the threads or processes are blocked, and the system comes to a standstill.\n",
    "\n",
    "For example, consider two threads A and B. Thread A holds a lock on resource X, and is waiting to acquire a lock on resource Y, while Thread B holds a lock on resource Y, and is waiting to acquire a lock on resource X. In this situation, both threads are waiting for each other to release the resources they need, resulting in a deadlock.\n",
    "\n",
    "Race conditions occur when two or more threads or processes access shared resources in an unexpected or unintended order, leading to unpredictable behavior. This can happen when multiple threads or processes are trying to update the same data simultaneously without proper synchronization mechanisms. Race conditions can result in data corruption, inconsistent behavior, or even crashes.\n",
    "\n",
    "For example, consider two threads A and B, both of which are trying to increment a shared counter variable. If both threads read the current value of the counter at the same time, increment it, and then write the new value back to the counter, the final value of the counter may be incorrect. This is because one thread may overwrite the value updated by the other thread, resulting in a race condition."
   ]
  },
  {
   "cell_type": "code",
   "execution_count": null,
   "id": "f4b8e3cf-96d2-4df5-88a9-8644cb7dc7d1",
   "metadata": {},
   "outputs": [],
   "source": []
  }
 ],
 "metadata": {
  "kernelspec": {
   "display_name": "Python 3 (ipykernel)",
   "language": "python",
   "name": "python3"
  },
  "language_info": {
   "codemirror_mode": {
    "name": "ipython",
    "version": 3
   },
   "file_extension": ".py",
   "mimetype": "text/x-python",
   "name": "python",
   "nbconvert_exporter": "python",
   "pygments_lexer": "ipython3",
   "version": "3.10.8"
  }
 },
 "nbformat": 4,
 "nbformat_minor": 5
}
